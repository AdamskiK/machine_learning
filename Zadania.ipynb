{
 "cells": [
  {
   "cell_type": "markdown",
   "metadata": {},
   "source": [
    "![logo](logo/DaftCode_logo_854x210.jpg)"
   ]
  },
  {
   "cell_type": "markdown",
   "metadata": {},
   "source": [
    "# Zajęcia 1"
   ]
  },
  {
   "cell_type": "markdown",
   "metadata": {},
   "source": [
    "## Zadania z eksploracji danych"
   ]
  },
  {
   "cell_type": "markdown",
   "metadata": {},
   "source": [
    "### Zadanie 1.1.\n",
    "\n",
    "Wczytajcie dane uczące (`xtrain_1.csv` i `y_train.csv`). Zdiagnozujcie kolumny nie niosące żadnej informacji (całkowicie puste, o zerowej wariancji itp.)"
   ]
  },
  {
   "cell_type": "code",
   "execution_count": 412,
   "metadata": {
    "collapsed": false
   },
   "outputs": [],
   "source": [
    "import pandas as pd\n",
    "pd.set_option('max_rows', 50000)\n",
    "xtrain_1 = pd.read_csv('xtrain_1.csv',low_memory=False)\n",
    "y_train = pd.read_csv('y_train.csv')"
   ]
  },
  {
   "cell_type": "markdown",
   "metadata": {},
   "source": [
    "##### Sprawdzenie typu danych"
   ]
  },
  {
   "cell_type": "code",
   "execution_count": 413,
   "metadata": {
    "collapsed": false
   },
   "outputs": [
    {
     "data": {
      "text/plain": [
       "object     157\n",
       "float64     70\n",
       "int64        6\n",
       "dtype: int64"
      ]
     },
     "execution_count": 413,
     "metadata": {},
     "output_type": "execute_result"
    }
   ],
   "source": [
    "xtrain_1.dtypes.value_counts()"
   ]
  },
  {
   "cell_type": "code",
   "execution_count": 414,
   "metadata": {
    "collapsed": false
   },
   "outputs": [
    {
     "data": {
      "text/plain": [
       "success      11123\n",
       "not found     6121\n",
       "Name: x83336, dtype: int64"
      ]
     },
     "execution_count": 414,
     "metadata": {},
     "output_type": "execute_result"
    }
   ],
   "source": [
    "xtrain_1['x83336'].value_counts()"
   ]
  },
  {
   "cell_type": "markdown",
   "metadata": {},
   "source": [
    "### Zadanie 1.2. a)"
   ]
  },
  {
   "cell_type": "markdown",
   "metadata": {},
   "source": [
    "Które kolumny są numeryczne a które nominalne? Ile poziomów jest w poszczególnych zmiennych nominalnych? Porównaj wartości kilku zmiennych numerycznych na boxplocie i histogramie."
   ]
  },
  {
   "cell_type": "code",
   "execution_count": 415,
   "metadata": {
    "collapsed": false
   },
   "outputs": [
    {
     "data": {
      "text/plain": [
       "<matplotlib.axes._subplots.AxesSubplot at 0x78636152e8>"
      ]
     },
     "execution_count": 415,
     "metadata": {},
     "output_type": "execute_result"
    },
    {
     "data": {
      "image/png": "[encoded data removed]",
      "text/plain": [
       "<matplotlib.figure.Figure at 0x78627c42b0>"
      ]
     },
     "metadata": {},
     "output_type": "display_data"
    }
   ],
   "source": [
    "%matplotlib inline\n",
    "xtrain_1[['x48420','x97674']].boxplot(return_type='axes')"
   ]
  },
  {
   "cell_type": "markdown",
   "metadata": {},
   "source": [
    "### Zadanie 1.2 b)\n",
    "Napisz funkcję, która biorąc za argument kolumnę ze zmienną nominalną, zwróci nową ramkę danych z jej reprezentacją binarną:\n",
    "\n",
    "```\n",
    "def transform_binary(col):\n",
    "    # return pandas.DataFrame\n",
    "```"
   ]
  },
  {
   "cell_type": "code",
   "execution_count": 416,
   "metadata": {
    "collapsed": false
   },
   "outputs": [],
   "source": [
    "def transform_binary(col):\n",
    "    arr = pd.DataFrame(np.zeros((len(xtrain_1.loc[:,col]),len(xtrain_1.loc[:,col].value_counts()))))\n",
    "    uniq = xtrain_1.loc[:,col].unique()\n",
    "    arr.columns = np.delete(uniq,-1)\n",
    "    for i in range(len(xtrain_1[col])):\n",
    "        for j in range(len(uniq)-1):\n",
    "            if xtrain_1[col][i] == uniq[j]:\n",
    "                arr.iloc[i,j] = 1\n",
    "    return arr"
   ]
  },
  {
   "cell_type": "code",
   "execution_count": 417,
   "metadata": {
    "collapsed": false
   },
   "outputs": [
    {
     "data": {
      "text/html": [
       "<div>\n",
       "<table border=\"1\" class=\"dataframe\">\n",
       "  <thead>\n",
       "    <tr style=\"text-align: right;\">\n",
       "      <th></th>\n",
       "      <th>success</th>\n",
       "      <th>not found</th>\n",
       "    </tr>\n",
       "  </thead>\n",
       "  <tbody>\n",
       "    <tr>\n",
       "      <th>0</th>\n",
       "      <td>1.0</td>\n",
       "      <td>0.0</td>\n",
       "    </tr>\n",
       "    <tr>\n",
       "      <th>1</th>\n",
       "      <td>0.0</td>\n",
       "      <td>1.0</td>\n",
       "    </tr>\n",
       "    <tr>\n",
       "      <th>2</th>\n",
       "      <td>1.0</td>\n",
       "      <td>0.0</td>\n",
       "    </tr>\n",
       "    <tr>\n",
       "      <th>3</th>\n",
       "      <td>0.0</td>\n",
       "      <td>1.0</td>\n",
       "    </tr>\n",
       "    <tr>\n",
       "      <th>4</th>\n",
       "      <td>1.0</td>\n",
       "      <td>0.0</td>\n",
       "    </tr>\n",
       "  </tbody>\n",
       "</table>\n",
       "</div>"
      ],
      "text/plain": [
       "   success  not found\n",
       "0      1.0        0.0\n",
       "1      0.0        1.0\n",
       "2      1.0        0.0\n",
       "3      0.0        1.0\n",
       "4      1.0        0.0"
      ]
     },
     "execution_count": 417,
     "metadata": {},
     "output_type": "execute_result"
    }
   ],
   "source": [
    "transform_binary('x83336').head()"
   ]
  },
  {
   "cell_type": "markdown",
   "metadata": {},
   "source": [
    "### Zadanie 1.3.\n",
    "\n",
    "W zbiorze danych znajdźcie kolumny zawierające format daty. Napiszcie funkcję, która zwraca nowe kolumny zawierające informacje pochodzące z tej cechy (w postaci ramki danych) i będące wartościami w zbiorze liczb $\\mathbf{R}$.\n",
    "\n",
    "```\n",
    "def transform_date(col):\n",
    "    # return pandas.DataFrame\n",
    "```"
   ]
  },
  {
   "cell_type": "code",
   "execution_count": 418,
   "metadata": {
    "collapsed": true
   },
   "outputs": [],
   "source": [
    "from time import time\n",
    "import datetime\n",
    "def transform_date(col):\n",
    "    time_col = xtrain_1[col]\n",
    "    time_col = pd.to_datetime(time_col, format='%Y-%m-%d %H:%M:%S.%f')\n",
    "    time_arr = []\n",
    "    for i in range(len(time_col)):\n",
    "        res = (time_col.iloc[i]-datetime.datetime(1970,1,1)).total_seconds()\n",
    "        time_arr.append(res)\n",
    "    time_arr = pd.DataFrame(time_arr)\n",
    "    time_arr.columns = np.array([col])\n",
    "    return time_arr"
   ]
  },
  {
   "cell_type": "code",
   "execution_count": 419,
   "metadata": {
    "collapsed": false
   },
   "outputs": [
    {
     "ename": "ValueError",
     "evalue": "time data '17:04.9' does match format specified",
     "output_type": "error",
     "traceback": [
      "\u001b[0;31m---------------------------------------------------------------------------\u001b[0m",
      "\u001b[0;31mTypeError\u001b[0m                                 Traceback (most recent call last)",
      "\u001b[0;32mC:\\Users\\Adam\\Anaconda3\\lib\\site-packages\\pandas\\tseries\\tools.py\u001b[0m in \u001b[0;36m_convert_listlike\u001b[0;34m(arg, box, format, name)\u001b[0m\n\u001b[1;32m    408\u001b[0m             \u001b[1;32mtry\u001b[0m\u001b[1;33m:\u001b[0m\u001b[1;33m\u001b[0m\u001b[0m\n\u001b[0;32m--> 409\u001b[0;31m                 \u001b[0mvalues\u001b[0m\u001b[1;33m,\u001b[0m \u001b[0mtz\u001b[0m \u001b[1;33m=\u001b[0m \u001b[0mtslib\u001b[0m\u001b[1;33m.\u001b[0m\u001b[0mdatetime_to_datetime64\u001b[0m\u001b[1;33m(\u001b[0m\u001b[0marg\u001b[0m\u001b[1;33m)\u001b[0m\u001b[1;33m\u001b[0m\u001b[0m\n\u001b[0m\u001b[1;32m    410\u001b[0m                 \u001b[1;32mreturn\u001b[0m \u001b[0mDatetimeIndex\u001b[0m\u001b[1;33m.\u001b[0m\u001b[0m_simple_new\u001b[0m\u001b[1;33m(\u001b[0m\u001b[0mvalues\u001b[0m\u001b[1;33m,\u001b[0m \u001b[0mname\u001b[0m\u001b[1;33m=\u001b[0m\u001b[0mname\u001b[0m\u001b[1;33m,\u001b[0m \u001b[0mtz\u001b[0m\u001b[1;33m=\u001b[0m\u001b[0mtz\u001b[0m\u001b[1;33m)\u001b[0m\u001b[1;33m\u001b[0m\u001b[0m\n",
      "\u001b[0;32mpandas\\tslib.pyx\u001b[0m in \u001b[0;36mpandas.tslib.datetime_to_datetime64 (pandas\\tslib.c:29768)\u001b[0;34m()\u001b[0m\n",
      "\u001b[0;31mTypeError\u001b[0m: Unrecognized value type: <class 'str'>",
      "\nDuring handling of the above exception, another exception occurred:\n",
      "\u001b[0;31mValueError\u001b[0m                                Traceback (most recent call last)",
      "\u001b[0;32m<ipython-input-419-00483b924c39>\u001b[0m in \u001b[0;36m<module>\u001b[0;34m()\u001b[0m\n\u001b[0;32m----> 1\u001b[0;31m \u001b[0mtransform_date\u001b[0m\u001b[1;33m(\u001b[0m\u001b[1;34m'received_at'\u001b[0m\u001b[1;33m)\u001b[0m\u001b[1;33m.\u001b[0m\u001b[0mhead\u001b[0m\u001b[1;33m(\u001b[0m\u001b[1;33m)\u001b[0m\u001b[1;33m\u001b[0m\u001b[0m\n\u001b[0m",
      "\u001b[0;32m<ipython-input-418-b3a52d308e55>\u001b[0m in \u001b[0;36mtransform_date\u001b[0;34m(col)\u001b[0m\n\u001b[1;32m      3\u001b[0m \u001b[1;32mdef\u001b[0m \u001b[0mtransform_date\u001b[0m\u001b[1;33m(\u001b[0m\u001b[0mcol\u001b[0m\u001b[1;33m)\u001b[0m\u001b[1;33m:\u001b[0m\u001b[1;33m\u001b[0m\u001b[0m\n\u001b[1;32m      4\u001b[0m     \u001b[0mtime_col\u001b[0m \u001b[1;33m=\u001b[0m \u001b[0mxtrain_1\u001b[0m\u001b[1;33m[\u001b[0m\u001b[0mcol\u001b[0m\u001b[1;33m]\u001b[0m\u001b[1;33m\u001b[0m\u001b[0m\n\u001b[0;32m----> 5\u001b[0;31m     \u001b[0mtime_col\u001b[0m \u001b[1;33m=\u001b[0m \u001b[0mpd\u001b[0m\u001b[1;33m.\u001b[0m\u001b[0mto_datetime\u001b[0m\u001b[1;33m(\u001b[0m\u001b[0mtime_col\u001b[0m\u001b[1;33m,\u001b[0m \u001b[0mformat\u001b[0m\u001b[1;33m=\u001b[0m\u001b[1;34m'%Y-%m-%d %H:%M:%S.%f'\u001b[0m\u001b[1;33m)\u001b[0m\u001b[1;33m\u001b[0m\u001b[0m\n\u001b[0m\u001b[1;32m      6\u001b[0m     \u001b[0mtime_arr\u001b[0m \u001b[1;33m=\u001b[0m \u001b[1;33m[\u001b[0m\u001b[1;33m]\u001b[0m\u001b[1;33m\u001b[0m\u001b[0m\n\u001b[1;32m      7\u001b[0m     \u001b[1;32mfor\u001b[0m \u001b[0mi\u001b[0m \u001b[1;32min\u001b[0m \u001b[0mrange\u001b[0m\u001b[1;33m(\u001b[0m\u001b[0mlen\u001b[0m\u001b[1;33m(\u001b[0m\u001b[0mtime_col\u001b[0m\u001b[1;33m)\u001b[0m\u001b[1;33m)\u001b[0m\u001b[1;33m:\u001b[0m\u001b[1;33m\u001b[0m\u001b[0m\n",
      "\u001b[0;32mC:\\Users\\Adam\\Anaconda3\\lib\\site-packages\\pandas\\util\\decorators.py\u001b[0m in \u001b[0;36mwrapper\u001b[0;34m(*args, **kwargs)\u001b[0m\n\u001b[1;32m     89\u001b[0m                 \u001b[1;32melse\u001b[0m\u001b[1;33m:\u001b[0m\u001b[1;33m\u001b[0m\u001b[0m\n\u001b[1;32m     90\u001b[0m                     \u001b[0mkwargs\u001b[0m\u001b[1;33m[\u001b[0m\u001b[0mnew_arg_name\u001b[0m\u001b[1;33m]\u001b[0m \u001b[1;33m=\u001b[0m \u001b[0mnew_arg_value\u001b[0m\u001b[1;33m\u001b[0m\u001b[0m\n\u001b[0;32m---> 91\u001b[0;31m             \u001b[1;32mreturn\u001b[0m \u001b[0mfunc\u001b[0m\u001b[1;33m(\u001b[0m\u001b[1;33m*\u001b[0m\u001b[0margs\u001b[0m\u001b[1;33m,\u001b[0m \u001b[1;33m**\u001b[0m\u001b[0mkwargs\u001b[0m\u001b[1;33m)\u001b[0m\u001b[1;33m\u001b[0m\u001b[0m\n\u001b[0m\u001b[1;32m     92\u001b[0m         \u001b[1;32mreturn\u001b[0m \u001b[0mwrapper\u001b[0m\u001b[1;33m\u001b[0m\u001b[0m\n\u001b[1;32m     93\u001b[0m     \u001b[1;32mreturn\u001b[0m \u001b[0m_deprecate_kwarg\u001b[0m\u001b[1;33m\u001b[0m\u001b[0m\n",
      "\u001b[0;32mC:\\Users\\Adam\\Anaconda3\\lib\\site-packages\\pandas\\tseries\\tools.py\u001b[0m in \u001b[0;36mto_datetime\u001b[0;34m(arg, errors, dayfirst, yearfirst, utc, box, format, exact, coerce, unit, infer_datetime_format)\u001b[0m\n\u001b[1;32m    289\u001b[0m                         \u001b[0myearfirst\u001b[0m\u001b[1;33m=\u001b[0m\u001b[0myearfirst\u001b[0m\u001b[1;33m,\u001b[0m\u001b[1;33m\u001b[0m\u001b[0m\n\u001b[1;32m    290\u001b[0m                         \u001b[0mutc\u001b[0m\u001b[1;33m=\u001b[0m\u001b[0mutc\u001b[0m\u001b[1;33m,\u001b[0m \u001b[0mbox\u001b[0m\u001b[1;33m=\u001b[0m\u001b[0mbox\u001b[0m\u001b[1;33m,\u001b[0m \u001b[0mformat\u001b[0m\u001b[1;33m=\u001b[0m\u001b[0mformat\u001b[0m\u001b[1;33m,\u001b[0m \u001b[0mexact\u001b[0m\u001b[1;33m=\u001b[0m\u001b[0mexact\u001b[0m\u001b[1;33m,\u001b[0m\u001b[1;33m\u001b[0m\u001b[0m\n\u001b[0;32m--> 291\u001b[0;31m                         unit=unit, infer_datetime_format=infer_datetime_format)\n\u001b[0m\u001b[1;32m    292\u001b[0m \u001b[1;33m\u001b[0m\u001b[0m\n\u001b[1;32m    293\u001b[0m \u001b[1;33m\u001b[0m\u001b[0m\n",
      "\u001b[0;32mC:\\Users\\Adam\\Anaconda3\\lib\\site-packages\\pandas\\tseries\\tools.py\u001b[0m in \u001b[0;36m_to_datetime\u001b[0;34m(arg, errors, dayfirst, yearfirst, utc, box, format, exact, unit, freq, infer_datetime_format)\u001b[0m\n\u001b[1;32m    418\u001b[0m     \u001b[1;32melif\u001b[0m \u001b[0misinstance\u001b[0m\u001b[1;33m(\u001b[0m\u001b[0marg\u001b[0m\u001b[1;33m,\u001b[0m \u001b[0mABCSeries\u001b[0m\u001b[1;33m)\u001b[0m\u001b[1;33m:\u001b[0m\u001b[1;33m\u001b[0m\u001b[0m\n\u001b[1;32m    419\u001b[0m         \u001b[1;32mfrom\u001b[0m \u001b[0mpandas\u001b[0m \u001b[1;32mimport\u001b[0m \u001b[0mSeries\u001b[0m\u001b[1;33m\u001b[0m\u001b[0m\n\u001b[0;32m--> 420\u001b[0;31m         \u001b[0mvalues\u001b[0m \u001b[1;33m=\u001b[0m \u001b[0m_convert_listlike\u001b[0m\u001b[1;33m(\u001b[0m\u001b[0marg\u001b[0m\u001b[1;33m.\u001b[0m\u001b[0m_values\u001b[0m\u001b[1;33m,\u001b[0m \u001b[1;32mFalse\u001b[0m\u001b[1;33m,\u001b[0m \u001b[0mformat\u001b[0m\u001b[1;33m)\u001b[0m\u001b[1;33m\u001b[0m\u001b[0m\n\u001b[0m\u001b[1;32m    421\u001b[0m         \u001b[1;32mreturn\u001b[0m \u001b[0mSeries\u001b[0m\u001b[1;33m(\u001b[0m\u001b[0mvalues\u001b[0m\u001b[1;33m,\u001b[0m \u001b[0mindex\u001b[0m\u001b[1;33m=\u001b[0m\u001b[0marg\u001b[0m\u001b[1;33m.\u001b[0m\u001b[0mindex\u001b[0m\u001b[1;33m,\u001b[0m \u001b[0mname\u001b[0m\u001b[1;33m=\u001b[0m\u001b[0marg\u001b[0m\u001b[1;33m.\u001b[0m\u001b[0mname\u001b[0m\u001b[1;33m)\u001b[0m\u001b[1;33m\u001b[0m\u001b[0m\n\u001b[1;32m    422\u001b[0m     \u001b[1;32melif\u001b[0m \u001b[0misinstance\u001b[0m\u001b[1;33m(\u001b[0m\u001b[0marg\u001b[0m\u001b[1;33m,\u001b[0m \u001b[1;33m(\u001b[0m\u001b[0mABCDataFrame\u001b[0m\u001b[1;33m,\u001b[0m \u001b[0mMutableMapping\u001b[0m\u001b[1;33m)\u001b[0m\u001b[1;33m)\u001b[0m\u001b[1;33m:\u001b[0m\u001b[1;33m\u001b[0m\u001b[0m\n",
      "\u001b[0;32mC:\\Users\\Adam\\Anaconda3\\lib\\site-packages\\pandas\\tseries\\tools.py\u001b[0m in \u001b[0;36m_convert_listlike\u001b[0;34m(arg, box, format, name)\u001b[0m\n\u001b[1;32m    410\u001b[0m                 \u001b[1;32mreturn\u001b[0m \u001b[0mDatetimeIndex\u001b[0m\u001b[1;33m.\u001b[0m\u001b[0m_simple_new\u001b[0m\u001b[1;33m(\u001b[0m\u001b[0mvalues\u001b[0m\u001b[1;33m,\u001b[0m \u001b[0mname\u001b[0m\u001b[1;33m=\u001b[0m\u001b[0mname\u001b[0m\u001b[1;33m,\u001b[0m \u001b[0mtz\u001b[0m\u001b[1;33m=\u001b[0m\u001b[0mtz\u001b[0m\u001b[1;33m)\u001b[0m\u001b[1;33m\u001b[0m\u001b[0m\n\u001b[1;32m    411\u001b[0m             \u001b[1;32mexcept\u001b[0m \u001b[1;33m(\u001b[0m\u001b[0mValueError\u001b[0m\u001b[1;33m,\u001b[0m \u001b[0mTypeError\u001b[0m\u001b[1;33m)\u001b[0m\u001b[1;33m:\u001b[0m\u001b[1;33m\u001b[0m\u001b[0m\n\u001b[0;32m--> 412\u001b[0;31m                 \u001b[1;32mraise\u001b[0m \u001b[0me\u001b[0m\u001b[1;33m\u001b[0m\u001b[0m\n\u001b[0m\u001b[1;32m    413\u001b[0m \u001b[1;33m\u001b[0m\u001b[0m\n\u001b[1;32m    414\u001b[0m     \u001b[1;32mif\u001b[0m \u001b[0marg\u001b[0m \u001b[1;32mis\u001b[0m \u001b[1;32mNone\u001b[0m\u001b[1;33m:\u001b[0m\u001b[1;33m\u001b[0m\u001b[0m\n",
      "\u001b[0;32mC:\\Users\\Adam\\Anaconda3\\lib\\site-packages\\pandas\\tseries\\tools.py\u001b[0m in \u001b[0;36m_convert_listlike\u001b[0;34m(arg, box, format, name)\u001b[0m\n\u001b[1;32m    396\u001b[0m                     \u001b[0myearfirst\u001b[0m\u001b[1;33m=\u001b[0m\u001b[0myearfirst\u001b[0m\u001b[1;33m,\u001b[0m\u001b[1;33m\u001b[0m\u001b[0m\n\u001b[1;32m    397\u001b[0m                     \u001b[0mfreq\u001b[0m\u001b[1;33m=\u001b[0m\u001b[0mfreq\u001b[0m\u001b[1;33m,\u001b[0m\u001b[1;33m\u001b[0m\u001b[0m\n\u001b[0;32m--> 398\u001b[0;31m                     \u001b[0mrequire_iso8601\u001b[0m\u001b[1;33m=\u001b[0m\u001b[0mrequire_iso8601\u001b[0m\u001b[1;33m\u001b[0m\u001b[0m\n\u001b[0m\u001b[1;32m    399\u001b[0m                 )\n\u001b[1;32m    400\u001b[0m \u001b[1;33m\u001b[0m\u001b[0m\n",
      "\u001b[0;32mpandas\\tslib.pyx\u001b[0m in \u001b[0;36mpandas.tslib.array_to_datetime (pandas\\tslib.c:41972)\u001b[0;34m()\u001b[0m\n",
      "\u001b[0;32mpandas\\tslib.pyx\u001b[0m in \u001b[0;36mpandas.tslib.array_to_datetime (pandas\\tslib.c:40205)\u001b[0;34m()\u001b[0m\n",
      "\u001b[0;31mValueError\u001b[0m: time data '17:04.9' does match format specified"
     ]
    }
   ],
   "source": [
    "transform_date('received_at').head()"
   ]
  },
  {
   "cell_type": "markdown",
   "metadata": {},
   "source": [
    "### Zadanie 1.4.\n",
    "\n",
    "Czy dane zawierają kolumnę z informacją o języku przeglądarki? Jeśli tak, to napiszcie funkcję, która zwróci nową ramkę danych z numeryczną informacją o występowaniu danego języka.\n",
    "\n",
    "```\n",
    "def transform_lang(X):\n",
    "    # return pandas.DataFrame\n",
    "```"
   ]
  },
  {
   "cell_type": "code",
   "execution_count": null,
   "metadata": {
    "collapsed": true
   },
   "outputs": [],
   "source": [
    "def transform_lang(arg='lang'):\n",
    "    lang_arr = []\n",
    "    for i in range(len(xtrain_1.columns.str.contains(arg))):\n",
    "        if pd.DataFrame(xtrain_1.columns.str.contains(arg)).iloc[i,0] == True:\n",
    "            lang_arr.append(i)\n",
    "    return xtrain_1.iloc[:,lang_arr]"
   ]
  },
  {
   "cell_type": "code",
   "execution_count": null,
   "metadata": {
    "collapsed": false
   },
   "outputs": [],
   "source": [
    "transform_lang().head()"
   ]
  },
  {
   "cell_type": "markdown",
   "metadata": {},
   "source": [
    "### Zadanie 1.5."
   ]
  },
  {
   "cell_type": "markdown",
   "metadata": {},
   "source": [
    "Które kolumny niosą informację o kraju? Czy wszystkie wartości są zgodne?\n",
    "\n",
    "a) Napisz funkcję, która dla danej ramki danych zwróci kolumny, w której jest nazwa kraju.\n",
    "\n",
    "b) Napisz funkcję, która dla zadanych dwóch kolumn zwróci informację czy są zgodne."
   ]
  },
  {
   "cell_type": "markdown",
   "metadata": {},
   "source": [
    "# A"
   ]
  },
  {
   "cell_type": "code",
   "execution_count": null,
   "metadata": {
    "collapsed": true
   },
   "outputs": [],
   "source": [
    "def transform_country(arg='country'):\n",
    "    lang_arr = []\n",
    "    for i in range(len(xtrain_1.columns.str.contains(arg))):\n",
    "        if pd.DataFrame(xtrain_1.columns.str.contains(arg)).iloc[i,0] == True:\n",
    "            lang_arr.append(i)\n",
    "    return xtrain_1.iloc[:,lang_arr]"
   ]
  },
  {
   "cell_type": "code",
   "execution_count": 10,
   "metadata": {
    "collapsed": false
   },
   "outputs": [
    {
     "data": {
      "text/html": [
       "<div>\n",
       "<table border=\"1\" class=\"dataframe\">\n",
       "  <thead>\n",
       "    <tr style=\"text-align: right;\">\n",
       "      <th></th>\n",
       "      <th>bin_country</th>\n",
       "      <th>user_ip_country</th>\n",
       "      <th>country_code</th>\n",
       "    </tr>\n",
       "  </thead>\n",
       "  <tbody>\n",
       "    <tr>\n",
       "      <th>0</th>\n",
       "      <td>NaN</td>\n",
       "      <td>US</td>\n",
       "      <td>US</td>\n",
       "    </tr>\n",
       "    <tr>\n",
       "      <th>1</th>\n",
       "      <td>NaN</td>\n",
       "      <td>US</td>\n",
       "      <td>US</td>\n",
       "    </tr>\n",
       "    <tr>\n",
       "      <th>2</th>\n",
       "      <td>NaN</td>\n",
       "      <td>US</td>\n",
       "      <td>US</td>\n",
       "    </tr>\n",
       "    <tr>\n",
       "      <th>3</th>\n",
       "      <td>NaN</td>\n",
       "      <td>US</td>\n",
       "      <td>US</td>\n",
       "    </tr>\n",
       "    <tr>\n",
       "      <th>4</th>\n",
       "      <td>NaN</td>\n",
       "      <td>US</td>\n",
       "      <td>ES</td>\n",
       "    </tr>\n",
       "  </tbody>\n",
       "</table>\n",
       "</div>"
      ],
      "text/plain": [
       "  bin_country user_ip_country country_code\n",
       "0         NaN              US           US\n",
       "1         NaN              US           US\n",
       "2         NaN              US           US\n",
       "3         NaN              US           US\n",
       "4         NaN              US           ES"
      ]
     },
     "execution_count": 10,
     "metadata": {},
     "output_type": "execute_result"
    }
   ],
   "source": [
    "transform_country().head()"
   ]
  },
  {
   "cell_type": "markdown",
   "metadata": {},
   "source": [
    "# B"
   ]
  },
  {
   "cell_type": "code",
   "execution_count": 27,
   "metadata": {
    "collapsed": false
   },
   "outputs": [],
   "source": [
    "country_df = transform_country()\n",
    "def valid_country(arg=0):\n",
    "    country_df['valid'] = (country_df.loc[:,'user_ip_country'] == country_df.loc[:,'country_code'])\n",
    "    return country_df"
   ]
  },
  {
   "cell_type": "code",
   "execution_count": 28,
   "metadata": {
    "collapsed": false
   },
   "outputs": [
    {
     "name": "stderr",
     "output_type": "stream",
     "text": [
      "C:\\Users\\Adam\\Anaconda3\\lib\\site-packages\\ipykernel\\__main__.py:3: SettingWithCopyWarning: \n",
      "A value is trying to be set on a copy of a slice from a DataFrame.\n",
      "Try using .loc[row_indexer,col_indexer] = value instead\n",
      "\n",
      "See the caveats in the documentation: http://pandas.pydata.org/pandas-docs/stable/indexing.html#indexing-view-versus-copy\n",
      "  app.launch_new_instance()\n"
     ]
    },
    {
     "data": {
      "text/html": [
       "<div>\n",
       "<table border=\"1\" class=\"dataframe\">\n",
       "  <thead>\n",
       "    <tr style=\"text-align: right;\">\n",
       "      <th></th>\n",
       "      <th>bin_country</th>\n",
       "      <th>user_ip_country</th>\n",
       "      <th>country_code</th>\n",
       "      <th>valid</th>\n",
       "    </tr>\n",
       "  </thead>\n",
       "  <tbody>\n",
       "    <tr>\n",
       "      <th>0</th>\n",
       "      <td>NaN</td>\n",
       "      <td>US</td>\n",
       "      <td>US</td>\n",
       "      <td>True</td>\n",
       "    </tr>\n",
       "    <tr>\n",
       "      <th>1</th>\n",
       "      <td>NaN</td>\n",
       "      <td>US</td>\n",
       "      <td>US</td>\n",
       "      <td>True</td>\n",
       "    </tr>\n",
       "    <tr>\n",
       "      <th>2</th>\n",
       "      <td>NaN</td>\n",
       "      <td>US</td>\n",
       "      <td>US</td>\n",
       "      <td>True</td>\n",
       "    </tr>\n",
       "    <tr>\n",
       "      <th>3</th>\n",
       "      <td>NaN</td>\n",
       "      <td>US</td>\n",
       "      <td>US</td>\n",
       "      <td>True</td>\n",
       "    </tr>\n",
       "    <tr>\n",
       "      <th>4</th>\n",
       "      <td>NaN</td>\n",
       "      <td>US</td>\n",
       "      <td>ES</td>\n",
       "      <td>False</td>\n",
       "    </tr>\n",
       "  </tbody>\n",
       "</table>\n",
       "</div>"
      ],
      "text/plain": [
       "  bin_country user_ip_country country_code  valid\n",
       "0         NaN              US           US   True\n",
       "1         NaN              US           US   True\n",
       "2         NaN              US           US   True\n",
       "3         NaN              US           US   True\n",
       "4         NaN              US           ES  False"
      ]
     },
     "execution_count": 28,
     "metadata": {},
     "output_type": "execute_result"
    }
   ],
   "source": [
    "valid_country().head()"
   ]
  },
  {
   "cell_type": "markdown",
   "metadata": {},
   "source": [
    "### Zadanie 1.6."
   ]
  },
  {
   "cell_type": "markdown",
   "metadata": {},
   "source": [
    "Które kolumny niosą informację o przeglądarce lub wersji systemu operacyjnego? Czy wszystkie wartości są zgodne?"
   ]
  },
  {
   "cell_type": "code",
   "execution_count": 58,
   "metadata": {
    "collapsed": true
   },
   "outputs": [],
   "source": [
    "def transform_osver(arg='browser_string'):\n",
    "    lang_arr = []\n",
    "    for i in range(len(xtrain_1.columns.str.contains(arg))):\n",
    "        if pd.DataFrame(xtrain_1.columns.str.contains(arg)).iloc[i,0] == True:\n",
    "            lang_arr.append(i)\n",
    "    return xtrain_1.iloc[:,lang_arr[0]]"
   ]
  },
  {
   "cell_type": "code",
   "execution_count": 59,
   "metadata": {
    "collapsed": false
   },
   "outputs": [
    {
     "data": {
      "text/plain": [
       "0    Mozilla/5.0 (Linux; Android 6.0.1; Nexus 6 Bui...\n",
       "1    Mozilla/5.0 (Windows NT 6.2; WOW64) AppleWebKi...\n",
       "2    Mozilla/5.0 (Windows NT 6.3; WOW64) AppleWebKi...\n",
       "3    Mozilla/5.0 (Windows NT 6.3; WOW64) AppleWebKi...\n",
       "4    Mozilla/5.0 (Windows NT 10.0; WOW64) AppleWebK...\n",
       "Name: browser_string, dtype: object"
      ]
     },
     "execution_count": 59,
     "metadata": {},
     "output_type": "execute_result"
    }
   ],
   "source": [
    "transform_osver().head()"
   ]
  },
  {
   "cell_type": "markdown",
   "metadata": {},
   "source": [
    "### Zadanie 1.7\n",
    "Utwórz plik `[imie]_functions.py`, w którym zbierzesz funkcje z zadań `1.1 - 1.6` w jeden moduł. W komórce poniżej przetestuj ich działanie."
   ]
  },
  {
   "cell_type": "code",
   "execution_count": 66,
   "metadata": {
    "collapsed": false
   },
   "outputs": [
    {
     "name": "stdout",
     "output_type": "stream",
     "text": [
      "   success  not found\n",
      "0      1.0        0.0\n",
      "1      0.0        1.0\n",
      "2      1.0        0.0\n",
      "3      0.0        1.0\n",
      "4      1.0        0.0\n",
      "    received_at\n",
      "0  1.454286e+09\n",
      "1  1.454286e+09\n",
      "2  1.454288e+09\n",
      "3  1.454289e+09\n",
      "4  1.454289e+09\n",
      "  browser_language headers_accept_language language\n",
      "0            en-US                     NaN      NaN\n",
      "1   en-US,en;q=0.8          en-US,en;q=0.8      NaN\n",
      "2   en-US,en;q=0.8          en-US,en;q=0.8      NaN\n",
      "3   en-US,en;q=0.8                     NaN      NaN\n",
      "4   en-US,en;q=0.8          en-US,en;q=0.8      NaN\n",
      "  bin_country user_ip_country country_code\n",
      "0         NaN              US           US\n",
      "1         NaN              US           US\n",
      "2         NaN              US           US\n",
      "3         NaN              US           US\n",
      "4         NaN              US           ES\n",
      "  bin_country user_ip_country country_code  valid\n",
      "0         NaN              US           US   True\n",
      "1         NaN              US           US   True\n",
      "2         NaN              US           US   True\n",
      "3         NaN              US           US   True\n",
      "4         NaN              US           ES  False\n"
     ]
    },
    {
     "name": "stderr",
     "output_type": "stream",
     "text": [
      "C:\\Users\\Adam\\Anaconda3\\lib\\site-packages\\ipykernel\\__main__.py:59: SettingWithCopyWarning: \n",
      "A value is trying to be set on a copy of a slice from a DataFrame.\n",
      "Try using .loc[row_indexer,col_indexer] = value instead\n",
      "\n",
      "See the caveats in the documentation: http://pandas.pydata.org/pandas-docs/stable/indexing.html#indexing-view-versus-copy\n"
     ]
    },
    {
     "name": "stdout",
     "output_type": "stream",
     "text": [
      "0    Mozilla/5.0 (Linux; Android 6.0.1; Nexus 6 Bui...\n",
      "1    Mozilla/5.0 (Windows NT 6.2; WOW64) AppleWebKi...\n",
      "2    Mozilla/5.0 (Windows NT 6.3; WOW64) AppleWebKi...\n",
      "3    Mozilla/5.0 (Windows NT 6.3; WOW64) AppleWebKi...\n",
      "4    Mozilla/5.0 (Windows NT 10.0; WOW64) AppleWebK...\n",
      "Name: browser_string, dtype: object\n"
     ]
    },
    {
     "data": {
      "image/png": "[encoded data removed]",
      "text/plain": [
       "<matplotlib.figure.Figure at 0x79d3a27470>"
      ]
     },
     "metadata": {},
     "output_type": "display_data"
    }
   ],
   "source": [
    "# %load [Kamil_Adamski]_functions.py.py\n",
    "import pandas as pd\n",
    "pd.set_option('max_rows', 50000)\n",
    "xtrain_1 = pd.read_csv('xtrain_1.csv',low_memory=False)\n",
    "y_train = pd.read_csv('y_train.csv')\n",
    "\n",
    "%matplotlib inline\n",
    "xtrain_1[['x48420','x97674']].boxplot(return_type='axes')\n",
    "\n",
    "#1.2\n",
    "\n",
    "def transform_binary(col):\n",
    "    arr = pd.DataFrame(np.zeros((len(xtrain_1.loc[:,col]),len(xtrain_1.loc[:,col].value_counts()))))\n",
    "    uniq = xtrain_1.loc[:,col].unique()\n",
    "    arr.columns = np.delete(uniq,-1)\n",
    "    for i in range(len(xtrain_1[col])):\n",
    "        for j in range(len(uniq)-1):\n",
    "            if xtrain_1[col][i] == uniq[j]:\n",
    "                arr.iloc[i,j] = 1\n",
    "    return arr\n",
    "    \n",
    "#1.3\n",
    "\n",
    "from time import time\n",
    "import datetime\n",
    "def transform_date(col):\n",
    "    time_col = xtrain_1[col]\n",
    "    time_col = pd.to_datetime(time_col, format='%Y-%m-%d %H:%M:%S.%f')\n",
    "    time_arr = []\n",
    "    for i in range(len(time_col)):\n",
    "        res = (time_col.iloc[i]-datetime.datetime(1970,1,1)).total_seconds()\n",
    "        time_arr.append(res)\n",
    "    time_arr = pd.DataFrame(time_arr)\n",
    "    time_arr.columns = np.array([col])\n",
    "    return time_arr\n",
    "    \n",
    "#1.4\n",
    "\n",
    "def transform_lang(arg='lang'):\n",
    "    lang_arr = []\n",
    "    for i in range(len(xtrain_1.columns.str.contains(arg))):\n",
    "        if pd.DataFrame(xtrain_1.columns.str.contains(arg)).iloc[i,0] == True:\n",
    "            lang_arr.append(i)\n",
    "    return xtrain_1.iloc[:,lang_arr]\n",
    "    \n",
    "#1.5A\n",
    "\n",
    "def transform_country(arg='country'):\n",
    "    lang_arr = []\n",
    "    for i in range(len(xtrain_1.columns.str.contains(arg))):\n",
    "        if pd.DataFrame(xtrain_1.columns.str.contains(arg)).iloc[i,0] == True:\n",
    "            lang_arr.append(i)\n",
    "    return xtrain_1.iloc[:,lang_arr]\n",
    "    \n",
    "#1.5B\n",
    "\n",
    "country_df = transform_country()\n",
    "def valid_country(arg=0):\n",
    "    country_df['valid'] = (country_df.loc[:,'user_ip_country'] == country_df.loc[:,'country_code'])\n",
    "    return country_df\n",
    "    \n",
    "#1.6\n",
    "\n",
    "def transform_osver(arg='browser_string'):\n",
    "    lang_arr = []\n",
    "    for i in range(len(xtrain_1.columns.str.contains(arg))):\n",
    "        if pd.DataFrame(xtrain_1.columns.str.contains(arg)).iloc[i,0] == True:\n",
    "            lang_arr.append(i)\n",
    "    return xtrain_1.iloc[:,lang_arr[0]]\n",
    "\n",
    "print(transform_binary('x83336').head())\n",
    "print(transform_date('received_at').head())\n",
    "print(transform_lang().head())\n",
    "print(transform_country().head())\n",
    "print(valid_country().head())\n",
    "print(transform_osver().head())"
   ]
  },
  {
   "cell_type": "markdown",
   "metadata": {},
   "source": [
    "## Zadania dodatkowe"
   ]
  },
  {
   "cell_type": "markdown",
   "metadata": {},
   "source": [
    "### Zadanie 1.8\n",
    "Znajdź 10. par zmiennych numerycznych o największej korelacji."
   ]
  },
  {
   "cell_type": "code",
   "execution_count": 141,
   "metadata": {
    "collapsed": false
   },
   "outputs": [],
   "source": [
    "import pandas as pd\n",
    "import numpy as np\n",
    "pd.set_option('max_rows', 50000)\n",
    "xtrain_1 = pd.read_csv('xtrain_1.csv',low_memory=False)\n",
    "y_train = pd.read_csv('y_train.csv')"
   ]
  },
  {
   "cell_type": "code",
   "execution_count": 116,
   "metadata": {
    "collapsed": false
   },
   "outputs": [
    {
     "data": {
      "text/plain": [
       "object     157\n",
       "float64     72\n",
       "int64        4\n",
       "dtype: int64"
      ]
     },
     "execution_count": 116,
     "metadata": {},
     "output_type": "execute_result"
    }
   ],
   "source": [
    "xtrain_1.dtypes.value_counts()"
   ]
  },
  {
   "cell_type": "code",
   "execution_count": 117,
   "metadata": {
    "collapsed": false
   },
   "outputs": [],
   "source": [
    "numeric_corr = xtrain_1.select_dtypes(include=[float])\n",
    "#numeric_corr.head()"
   ]
  },
  {
   "cell_type": "markdown",
   "metadata": {},
   "source": [
    "##### Sprawdzenie które kolumny mają tylko wartości NaN"
   ]
  },
  {
   "cell_type": "code",
   "execution_count": 118,
   "metadata": {
    "collapsed": false
   },
   "outputs": [],
   "source": [
    "import math\n",
    "j = 0\n",
    "countj = []\n",
    "col_drop_num = []\n",
    "while j < len(numeric_corr.columns):\n",
    "    i = 0\n",
    "    count = 0\n",
    "    while i < len(numeric_corr)-17000:\n",
    "        if math.isnan(np.array(numeric_corr)[i,j]) == True:\n",
    "            count += 1\n",
    "            countj.append(j)\n",
    "            if count == len(numeric_corr)-17000:\n",
    "                #print(j)\n",
    "                col_drop_num.append(j)\n",
    "        i += 1\n",
    "    j += 1    "
   ]
  },
  {
   "cell_type": "code",
   "execution_count": 119,
   "metadata": {
    "collapsed": false
   },
   "outputs": [
    {
     "data": {
      "text/plain": [
       "[2, 17, 23, 36, 42, 49, 56, 57, 58, 59, 64, 65, 66, 67, 68, 69, 70, 71]"
      ]
     },
     "execution_count": 119,
     "metadata": {},
     "output_type": "execute_result"
    }
   ],
   "source": [
    "col_drop_num"
   ]
  },
  {
   "cell_type": "code",
   "execution_count": 120,
   "metadata": {
    "collapsed": false
   },
   "outputs": [
    {
     "data": {
      "text/plain": [
       "array([ 0,  1,  2,  4,  5,  6,  7,  8,  9, 10, 11, 12, 13, 14, 15, 16, 17,\n",
       "       18, 19, 20, 21, 22, 23, 24, 25, 26, 27, 28, 29, 30, 31, 32, 33, 34,\n",
       "       35, 36, 37, 38, 40, 41, 42, 43, 44, 45, 46, 47, 48, 49, 50, 51, 56,\n",
       "       57, 58, 59, 60, 61, 62, 63, 64, 65, 66, 67, 68, 69, 70, 71], dtype=int64)"
      ]
     },
     "execution_count": 120,
     "metadata": {},
     "output_type": "execute_result"
    }
   ],
   "source": [
    "pd.Series(countj).unique()"
   ]
  },
  {
   "cell_type": "markdown",
   "metadata": {},
   "source": [
    "##### Wyrzucenie kolumn, w któych występują tylko wartości NaN"
   ]
  },
  {
   "cell_type": "code",
   "execution_count": 121,
   "metadata": {
    "collapsed": false
   },
   "outputs": [
    {
     "name": "stderr",
     "output_type": "stream",
     "text": [
      "C:\\Users\\Adam\\Anaconda3\\lib\\site-packages\\ipykernel\\__main__.py:1: SettingWithCopyWarning: \n",
      "A value is trying to be set on a copy of a slice from a DataFrame\n",
      "\n",
      "See the caveats in the documentation: http://pandas.pydata.org/pandas-docs/stable/indexing.html#indexing-view-versus-copy\n",
      "  if __name__ == '__main__':\n"
     ]
    }
   ],
   "source": [
    "X = numeric_corr.drop(numeric_corr.columns[col_drop_num], axis=1, inplace=True)"
   ]
  },
  {
   "cell_type": "code",
   "execution_count": 122,
   "metadata": {
    "collapsed": true
   },
   "outputs": [],
   "source": [
    "val = len(numeric_corr.columns)-1\n",
    "X = numeric_corr.iloc[:,0:val].values"
   ]
  },
  {
   "cell_type": "code",
   "execution_count": 123,
   "metadata": {
    "collapsed": false
   },
   "outputs": [],
   "source": [
    "from sklearn.preprocessing import Imputer\n",
    "imputer = Imputer(missing_values = 'NaN', strategy = 'mean', axis = 0)\n",
    "imputer = imputer.fit(X[:,0:val])\n",
    "X[:,0:val] = imputer.transform(X[:,0:val])"
   ]
  },
  {
   "cell_type": "code",
   "execution_count": 124,
   "metadata": {
    "collapsed": false
   },
   "outputs": [
    {
     "data": {
      "text/html": [
       "<div>\n",
       "<table border=\"1\" class=\"dataframe\">\n",
       "  <thead>\n",
       "    <tr style=\"text-align: right;\">\n",
       "      <th></th>\n",
       "      <th>x48420</th>\n",
       "      <th>x97674</th>\n",
       "      <th>cc_bin_number</th>\n",
       "      <th>cc_number_hash_score</th>\n",
       "      <th>cc_number_hash_worst_score</th>\n",
       "      <th>cidr_number</th>\n",
       "      <th>custom_count_1</th>\n",
       "      <th>custom_count_2</th>\n",
       "      <th>custom_count_3</th>\n",
       "      <th>custom_count_4</th>\n",
       "      <th>...</th>\n",
       "      <th>x70806</th>\n",
       "      <th>x43300</th>\n",
       "      <th>expiration_year</th>\n",
       "      <th>expiration_month</th>\n",
       "      <th>client_status_code</th>\n",
       "      <th>transaction_amount</th>\n",
       "      <th>tcp_mss</th>\n",
       "      <th>tcp_tos</th>\n",
       "      <th>tcp_ttl</th>\n",
       "      <th>tcp_win</th>\n",
       "    </tr>\n",
       "  </thead>\n",
       "  <tbody>\n",
       "    <tr>\n",
       "      <th>0</th>\n",
       "      <td>0.000000</td>\n",
       "      <td>0.000000</td>\n",
       "      <td>434769.0</td>\n",
       "      <td>0.000000</td>\n",
       "      <td>0.000000</td>\n",
       "      <td>12.271028</td>\n",
       "      <td>2.0</td>\n",
       "      <td>2.0</td>\n",
       "      <td>2.0</td>\n",
       "      <td>2.0</td>\n",
       "      <td>...</td>\n",
       "      <td>9.0</td>\n",
       "      <td>-4.0</td>\n",
       "      <td>2018.0</td>\n",
       "      <td>6.0</td>\n",
       "      <td>1.0</td>\n",
       "      <td>100.0</td>\n",
       "      <td>1436.992065</td>\n",
       "      <td>0.197565</td>\n",
       "      <td>73.746614</td>\n",
       "      <td>NaN</td>\n",
       "    </tr>\n",
       "    <tr>\n",
       "      <th>1</th>\n",
       "      <td>0.019689</td>\n",
       "      <td>-0.075339</td>\n",
       "      <td>533248.0</td>\n",
       "      <td>0.000601</td>\n",
       "      <td>-0.009862</td>\n",
       "      <td>12.271028</td>\n",
       "      <td>1.0</td>\n",
       "      <td>1.0</td>\n",
       "      <td>1.0</td>\n",
       "      <td>1.0</td>\n",
       "      <td>...</td>\n",
       "      <td>0.0</td>\n",
       "      <td>0.0</td>\n",
       "      <td>2018.0</td>\n",
       "      <td>2.0</td>\n",
       "      <td>1.0</td>\n",
       "      <td>100.0</td>\n",
       "      <td>1460.000000</td>\n",
       "      <td>0.000000</td>\n",
       "      <td>111.000000</td>\n",
       "      <td>8192.0</td>\n",
       "    </tr>\n",
       "    <tr>\n",
       "      <th>2</th>\n",
       "      <td>0.000000</td>\n",
       "      <td>0.000000</td>\n",
       "      <td>418646.0</td>\n",
       "      <td>0.000000</td>\n",
       "      <td>0.000000</td>\n",
       "      <td>12.271028</td>\n",
       "      <td>3.0</td>\n",
       "      <td>2.0</td>\n",
       "      <td>2.0</td>\n",
       "      <td>1.0</td>\n",
       "      <td>...</td>\n",
       "      <td>0.0</td>\n",
       "      <td>0.0</td>\n",
       "      <td>2017.0</td>\n",
       "      <td>2.0</td>\n",
       "      <td>1.0</td>\n",
       "      <td>100.0</td>\n",
       "      <td>1460.000000</td>\n",
       "      <td>0.000000</td>\n",
       "      <td>110.000000</td>\n",
       "      <td>8192.0</td>\n",
       "    </tr>\n",
       "    <tr>\n",
       "      <th>3</th>\n",
       "      <td>0.019689</td>\n",
       "      <td>-0.075339</td>\n",
       "      <td>545958.0</td>\n",
       "      <td>0.000000</td>\n",
       "      <td>0.000000</td>\n",
       "      <td>12.271028</td>\n",
       "      <td>1.0</td>\n",
       "      <td>1.0</td>\n",
       "      <td>1.0</td>\n",
       "      <td>3.0</td>\n",
       "      <td>...</td>\n",
       "      <td>0.0</td>\n",
       "      <td>-6.0</td>\n",
       "      <td>2018.0</td>\n",
       "      <td>12.0</td>\n",
       "      <td>1.0</td>\n",
       "      <td>100.0</td>\n",
       "      <td>1436.992065</td>\n",
       "      <td>0.197565</td>\n",
       "      <td>73.746614</td>\n",
       "      <td>NaN</td>\n",
       "    </tr>\n",
       "    <tr>\n",
       "      <th>4</th>\n",
       "      <td>0.000000</td>\n",
       "      <td>0.000000</td>\n",
       "      <td>527267.0</td>\n",
       "      <td>0.000000</td>\n",
       "      <td>0.000000</td>\n",
       "      <td>12.271028</td>\n",
       "      <td>36.0</td>\n",
       "      <td>42.0</td>\n",
       "      <td>17.0</td>\n",
       "      <td>8.0</td>\n",
       "      <td>...</td>\n",
       "      <td>0.0</td>\n",
       "      <td>0.0</td>\n",
       "      <td>2018.0</td>\n",
       "      <td>6.0</td>\n",
       "      <td>1.0</td>\n",
       "      <td>100.0</td>\n",
       "      <td>1460.000000</td>\n",
       "      <td>0.000000</td>\n",
       "      <td>112.000000</td>\n",
       "      <td>8192.0</td>\n",
       "    </tr>\n",
       "  </tbody>\n",
       "</table>\n",
       "<p>5 rows × 54 columns</p>\n",
       "</div>"
      ],
      "text/plain": [
       "     x48420    x97674  cc_bin_number  cc_number_hash_score  \\\n",
       "0  0.000000  0.000000       434769.0              0.000000   \n",
       "1  0.019689 -0.075339       533248.0              0.000601   \n",
       "2  0.000000  0.000000       418646.0              0.000000   \n",
       "3  0.019689 -0.075339       545958.0              0.000000   \n",
       "4  0.000000  0.000000       527267.0              0.000000   \n",
       "\n",
       "   cc_number_hash_worst_score  cidr_number  custom_count_1  custom_count_2  \\\n",
       "0                    0.000000    12.271028             2.0             2.0   \n",
       "1                   -0.009862    12.271028             1.0             1.0   \n",
       "2                    0.000000    12.271028             3.0             2.0   \n",
       "3                    0.000000    12.271028             1.0             1.0   \n",
       "4                    0.000000    12.271028            36.0            42.0   \n",
       "\n",
       "   custom_count_3  custom_count_4   ...     x70806  x43300  expiration_year  \\\n",
       "0             2.0             2.0   ...        9.0    -4.0           2018.0   \n",
       "1             1.0             1.0   ...        0.0     0.0           2018.0   \n",
       "2             2.0             1.0   ...        0.0     0.0           2017.0   \n",
       "3             1.0             3.0   ...        0.0    -6.0           2018.0   \n",
       "4            17.0             8.0   ...        0.0     0.0           2018.0   \n",
       "\n",
       "   expiration_month  client_status_code  transaction_amount      tcp_mss  \\\n",
       "0               6.0                 1.0               100.0  1436.992065   \n",
       "1               2.0                 1.0               100.0  1460.000000   \n",
       "2               2.0                 1.0               100.0  1460.000000   \n",
       "3              12.0                 1.0               100.0  1436.992065   \n",
       "4               6.0                 1.0               100.0  1460.000000   \n",
       "\n",
       "    tcp_tos     tcp_ttl  tcp_win  \n",
       "0  0.197565   73.746614      NaN  \n",
       "1  0.000000  111.000000   8192.0  \n",
       "2  0.000000  110.000000   8192.0  \n",
       "3  0.197565   73.746614      NaN  \n",
       "4  0.000000  112.000000   8192.0  \n",
       "\n",
       "[5 rows x 54 columns]"
      ]
     },
     "execution_count": 124,
     "metadata": {},
     "output_type": "execute_result"
    }
   ],
   "source": [
    "numeric_corr.head()"
   ]
  },
  {
   "cell_type": "code",
   "execution_count": 125,
   "metadata": {
    "collapsed": false
   },
   "outputs": [
    {
     "ename": "AttributeError",
     "evalue": "'numpy.ndarray' object has no attribute 'isnan'",
     "output_type": "error",
     "traceback": [
      "\u001b[0;31m---------------------------------------------------------------------------\u001b[0m",
      "\u001b[0;31mAttributeError\u001b[0m                            Traceback (most recent call last)",
      "\u001b[0;32m<ipython-input-125-bcc79fc7591e>\u001b[0m in \u001b[0;36m<module>\u001b[0;34m()\u001b[0m\n\u001b[1;32m      1\u001b[0m \u001b[1;32mfor\u001b[0m \u001b[0mi\u001b[0m \u001b[1;32min\u001b[0m \u001b[0mrange\u001b[0m\u001b[1;33m(\u001b[0m\u001b[0mlen\u001b[0m\u001b[1;33m(\u001b[0m\u001b[0mnumeric_corr\u001b[0m\u001b[1;33m.\u001b[0m\u001b[0mcolumns\u001b[0m\u001b[1;33m)\u001b[0m\u001b[1;33m)\u001b[0m\u001b[1;33m:\u001b[0m\u001b[1;33m\u001b[0m\u001b[0m\n\u001b[1;32m      2\u001b[0m     \u001b[0mx\u001b[0m\u001b[1;33m,\u001b[0m \u001b[0my\u001b[0m \u001b[1;33m=\u001b[0m \u001b[0mnumeric_corr\u001b[0m\u001b[1;33m.\u001b[0m\u001b[0miloc\u001b[0m\u001b[1;33m[\u001b[0m \u001b[1;33m:\u001b[0m\u001b[1;33m,\u001b[0m\u001b[0mi\u001b[0m\u001b[1;33m]\u001b[0m\u001b[1;33m.\u001b[0m\u001b[0mvalues\u001b[0m\u001b[1;33m,\u001b[0m \u001b[0mnumeric_corr\u001b[0m\u001b[1;33m.\u001b[0m\u001b[0miloc\u001b[0m\u001b[1;33m[\u001b[0m \u001b[1;33m:\u001b[0m\u001b[1;33m,\u001b[0m\u001b[0mi\u001b[0m\u001b[1;33m]\u001b[0m\u001b[1;33m.\u001b[0m\u001b[0mvalues\u001b[0m\u001b[1;33m\u001b[0m\u001b[0m\n\u001b[0;32m----> 3\u001b[0;31m     \u001b[0mnas\u001b[0m \u001b[1;33m=\u001b[0m \u001b[0mnp\u001b[0m\u001b[1;33m.\u001b[0m\u001b[0mlogical_or\u001b[0m\u001b[1;33m(\u001b[0m\u001b[0mx\u001b[0m\u001b[1;33m.\u001b[0m\u001b[0misnan\u001b[0m\u001b[1;33m(\u001b[0m\u001b[1;33m)\u001b[0m\u001b[1;33m,\u001b[0m \u001b[0my\u001b[0m\u001b[1;33m.\u001b[0m\u001b[0misnan\u001b[0m\u001b[1;33m(\u001b[0m\u001b[1;33m)\u001b[0m\u001b[1;33m)\u001b[0m\u001b[1;33m\u001b[0m\u001b[0m\n\u001b[0m\u001b[1;32m      4\u001b[0m     \u001b[0mcorr\u001b[0m \u001b[1;33m=\u001b[0m \u001b[0msp\u001b[0m\u001b[1;33m.\u001b[0m\u001b[0mpearsonr\u001b[0m\u001b[1;33m(\u001b[0m\u001b[0mx\u001b[0m\u001b[1;33m[\u001b[0m\u001b[1;33m~\u001b[0m\u001b[0mnas\u001b[0m\u001b[1;33m]\u001b[0m\u001b[1;33m,\u001b[0m \u001b[0my\u001b[0m\u001b[1;33m[\u001b[0m\u001b[1;33m~\u001b[0m\u001b[0mnas\u001b[0m\u001b[1;33m]\u001b[0m\u001b[1;33m)\u001b[0m\u001b[1;33m\u001b[0m\u001b[0m\n\u001b[1;32m      5\u001b[0m     \u001b[0mcorrelation\u001b[0m\u001b[1;33m.\u001b[0m\u001b[0mappend\u001b[0m\u001b[1;33m(\u001b[0m\u001b[0mcorr\u001b[0m\u001b[1;33m)\u001b[0m\u001b[1;33m\u001b[0m\u001b[0m\n",
      "\u001b[0;31mAttributeError\u001b[0m: 'numpy.ndarray' object has no attribute 'isnan'"
     ]
    }
   ],
   "source": [
    "for i in range(len(numeric_corr.columns)):    \n",
    "    x, y = numeric_corr.iloc[ :,i].values, numeric_corr.iloc[ :,i].values\n",
    "    nas = np.logical_or(x.isnan(), y.isnan())\n",
    "    corr = sp.pearsonr(x[~nas], y[~nas])\n",
    "    correlation.append(corr)"
   ]
  },
  {
   "cell_type": "markdown",
   "metadata": {},
   "source": [
    "##### Tablica z indeksami do korelacji"
   ]
  },
  {
   "cell_type": "code",
   "execution_count": 316,
   "metadata": {
    "collapsed": false
   },
   "outputs": [],
   "source": [
    "from scipy.stats.stats import pearsonr\n",
    "corr_arr = []\n",
    "n = len(numeric_corr.columns)+1\n",
    "num_index = int((n**2-n)/2)\n",
    "index_arr = np.zeros((num_index+1,2))\n",
    "global_counter = 0\n",
    "for i in range(len(numeric_corr.columns)):\n",
    "    counter = i\n",
    "    while counter < len(numeric_corr.columns):\n",
    "        ress = pearsonr(numeric_corr.iloc[:,i],numeric_corr.iloc[:,counter])\n",
    "        corr_arr.append(ress)\n",
    "        index_arr[global_counter] = i, counter\n",
    "        counter += 1\n",
    "        global_counter += 1\n",
    "        #print(i,counter)"
   ]
  },
  {
   "cell_type": "code",
   "execution_count": 317,
   "metadata": {
    "collapsed": false
   },
   "outputs": [],
   "source": [
    "index_arr = pd.DataFrame(index_arr)\n",
    "index_arr.columns = ['row_index', 'col_index']\n",
    "#pd.DataFrame(index_arr).head(-1)"
   ]
  },
  {
   "cell_type": "code",
   "execution_count": 318,
   "metadata": {
    "collapsed": false
   },
   "outputs": [],
   "source": [
    "corr_arr = pd.DataFrame(corr_arr)\n",
    "corr_arr.columns = ['corr', 'p-val']\n",
    "#pd.DataFrame(corr_arr).head()"
   ]
  },
  {
   "cell_type": "code",
   "execution_count": 319,
   "metadata": {
    "collapsed": false
   },
   "outputs": [],
   "source": [
    "corr_df = pd.concat([index_arr,corr_arr],axis=1)\n",
    "#corr_df.head()"
   ]
  },
  {
   "cell_type": "code",
   "execution_count": 320,
   "metadata": {
    "collapsed": false
   },
   "outputs": [
    {
     "name": "stderr",
     "output_type": "stream",
     "text": [
      "C:\\Users\\Adam\\Anaconda3\\lib\\site-packages\\ipykernel\\__main__.py:1: FutureWarning: sort(columns=....) is deprecated, use sort_values(by=.....)\n",
      "  if __name__ == '__main__':\n"
     ]
    }
   ],
   "source": [
    "result = corr_df.sort(['corr'],ascending=False)"
   ]
  },
  {
   "cell_type": "code",
   "execution_count": 321,
   "metadata": {
    "collapsed": false
   },
   "outputs": [
    {
     "data": {
      "text/plain": [
       "pandas.core.frame.DataFrame"
      ]
     },
     "execution_count": 321,
     "metadata": {},
     "output_type": "execute_result"
    }
   ],
   "source": [
    "type(result)"
   ]
  },
  {
   "cell_type": "code",
   "execution_count": 325,
   "metadata": {
    "collapsed": false
   },
   "outputs": [
    {
     "data": {
      "text/html": [
       "<div>\n",
       "<table border=\"1\" class=\"dataframe\">\n",
       "  <thead>\n",
       "    <tr style=\"text-align: right;\">\n",
       "      <th></th>\n",
       "      <th>row_index</th>\n",
       "      <th>col_index</th>\n",
       "      <th>corr</th>\n",
       "      <th>p-val</th>\n",
       "    </tr>\n",
       "  </thead>\n",
       "  <tbody>\n",
       "    <tr>\n",
       "      <th>0</th>\n",
       "      <td>19.0</td>\n",
       "      <td>42.0</td>\n",
       "      <td>0.984438</td>\n",
       "      <td>0.0</td>\n",
       "    </tr>\n",
       "    <tr>\n",
       "      <th>1</th>\n",
       "      <td>20.0</td>\n",
       "      <td>43.0</td>\n",
       "      <td>0.983640</td>\n",
       "      <td>0.0</td>\n",
       "    </tr>\n",
       "    <tr>\n",
       "      <th>2</th>\n",
       "      <td>40.0</td>\n",
       "      <td>43.0</td>\n",
       "      <td>0.954989</td>\n",
       "      <td>0.0</td>\n",
       "    </tr>\n",
       "    <tr>\n",
       "      <th>3</th>\n",
       "      <td>20.0</td>\n",
       "      <td>40.0</td>\n",
       "      <td>0.949007</td>\n",
       "      <td>0.0</td>\n",
       "    </tr>\n",
       "    <tr>\n",
       "      <th>4</th>\n",
       "      <td>14.0</td>\n",
       "      <td>42.0</td>\n",
       "      <td>0.947748</td>\n",
       "      <td>0.0</td>\n",
       "    </tr>\n",
       "    <tr>\n",
       "      <th>5</th>\n",
       "      <td>14.0</td>\n",
       "      <td>19.0</td>\n",
       "      <td>0.942203</td>\n",
       "      <td>0.0</td>\n",
       "    </tr>\n",
       "    <tr>\n",
       "      <th>6</th>\n",
       "      <td>15.0</td>\n",
       "      <td>43.0</td>\n",
       "      <td>0.910277</td>\n",
       "      <td>0.0</td>\n",
       "    </tr>\n",
       "    <tr>\n",
       "      <th>7</th>\n",
       "      <td>15.0</td>\n",
       "      <td>20.0</td>\n",
       "      <td>0.904697</td>\n",
       "      <td>0.0</td>\n",
       "    </tr>\n",
       "    <tr>\n",
       "      <th>8</th>\n",
       "      <td>15.0</td>\n",
       "      <td>40.0</td>\n",
       "      <td>0.883761</td>\n",
       "      <td>0.0</td>\n",
       "    </tr>\n",
       "    <tr>\n",
       "      <th>9</th>\n",
       "      <td>12.0</td>\n",
       "      <td>17.0</td>\n",
       "      <td>0.847456</td>\n",
       "      <td>0.0</td>\n",
       "    </tr>\n",
       "    <tr>\n",
       "      <th>10</th>\n",
       "      <td>13.0</td>\n",
       "      <td>18.0</td>\n",
       "      <td>0.786625</td>\n",
       "      <td>0.0</td>\n",
       "    </tr>\n",
       "  </tbody>\n",
       "</table>\n",
       "</div>"
      ],
      "text/plain": [
       "    row_index  col_index      corr  p-val\n",
       "0        19.0       42.0  0.984438    0.0\n",
       "1        20.0       43.0  0.983640    0.0\n",
       "2        40.0       43.0  0.954989    0.0\n",
       "3        20.0       40.0  0.949007    0.0\n",
       "4        14.0       42.0  0.947748    0.0\n",
       "5        14.0       19.0  0.942203    0.0\n",
       "6        15.0       43.0  0.910277    0.0\n",
       "7        15.0       20.0  0.904697    0.0\n",
       "8        15.0       40.0  0.883761    0.0\n",
       "9        12.0       17.0  0.847456    0.0\n",
       "10       13.0       18.0  0.786625    0.0"
      ]
     },
     "execution_count": 325,
     "metadata": {},
     "output_type": "execute_result"
    }
   ],
   "source": [
    "tab = []\n",
    "glob_c = 0\n",
    "for i in range(len(result)):\n",
    "    if glob_c <= 10:\n",
    "        if result.iloc[i,2] != 1.0:\n",
    "            tab.append(np.array(result.iloc[i]))\n",
    "            glob_c += 1\n",
    "tab = pd.DataFrame(tab)\n",
    "tab.columns = ['row_index','col_index','corr','p-val']\n",
    "tab"
   ]
  },
  {
   "cell_type": "code",
   "execution_count": 374,
   "metadata": {
    "collapsed": false
   },
   "outputs": [],
   "source": [
    "row_num = 0"
   ]
  },
  {
   "cell_type": "code",
   "execution_count": 375,
   "metadata": {
    "collapsed": false
   },
   "outputs": [
    {
     "data": {
      "text/plain": [
       "'input_ip_latitude'"
      ]
     },
     "execution_count": 375,
     "metadata": {},
     "output_type": "execute_result"
    }
   ],
   "source": [
    "numeric_corr.columns[int(tab.iloc[row_num,0])]"
   ]
  },
  {
   "cell_type": "code",
   "execution_count": 376,
   "metadata": {
    "collapsed": false
   },
   "outputs": [
    {
     "data": {
      "text/plain": [
       "'x7971'"
      ]
     },
     "execution_count": 376,
     "metadata": {},
     "output_type": "execute_result"
    }
   ],
   "source": [
    "numeric_corr.columns[int(tab.iloc[row_num,1])]"
   ]
  },
  {
   "cell_type": "markdown",
   "metadata": {},
   "source": [
    "### Zadanie 1.9\n",
    "Dowolną metodą znajdź 10. par najbardziej zależnych od siebie zmiennych nominalnych."
   ]
  },
  {
   "cell_type": "code",
   "execution_count": null,
   "metadata": {
    "collapsed": true
   },
   "outputs": [],
   "source": [
    "str_corr = xtrain_1.select_dtypes(include=[str])"
   ]
  },
  {
   "cell_type": "code",
   "execution_count": 143,
   "metadata": {
    "collapsed": false
   },
   "outputs": [
    {
     "data": {
      "text/html": [
       "<div>\n",
       "<table border=\"1\" class=\"dataframe\">\n",
       "  <thead>\n",
       "    <tr style=\"text-align: right;\">\n",
       "      <th></th>\n",
       "      <th>x72496</th>\n",
       "      <th>x32520</th>\n",
       "      <th>x46219</th>\n",
       "      <th>x97734</th>\n",
       "      <th>x98434</th>\n",
       "      <th>x13664</th>\n",
       "      <th>x83336</th>\n",
       "      <th>x48420</th>\n",
       "      <th>x97674</th>\n",
       "      <th>agent_type</th>\n",
       "      <th>...</th>\n",
       "      <th>navigatorproductsub</th>\n",
       "      <th>navigatorappcodename</th>\n",
       "      <th>language</th>\n",
       "      <th>useragent</th>\n",
       "      <th>donottrack</th>\n",
       "      <th>timezoneoffset</th>\n",
       "      <th>navigatorplatform</th>\n",
       "      <th>navigatorjavaenabled</th>\n",
       "      <th>navigatorcookieenabled</th>\n",
       "      <th>parsed_user_agent</th>\n",
       "    </tr>\n",
       "  </thead>\n",
       "  <tbody>\n",
       "    <tr>\n",
       "      <th>0</th>\n",
       "      <td>NaN</td>\n",
       "      <td>NaN</td>\n",
       "      <td>2016-01-30</td>\n",
       "      <td>NaN</td>\n",
       "      <td>2016-02-01</td>\n",
       "      <td>2016-02-01</td>\n",
       "      <td>success</td>\n",
       "      <td>0.0</td>\n",
       "      <td>0.0</td>\n",
       "      <td>browser_mobile</td>\n",
       "      <td>...</td>\n",
       "      <td>NaN</td>\n",
       "      <td>NaN</td>\n",
       "      <td>NaN</td>\n",
       "      <td>NaN</td>\n",
       "      <td>NaN</td>\n",
       "      <td>NaN</td>\n",
       "      <td>NaN</td>\n",
       "      <td>NaN</td>\n",
       "      <td>NaN</td>\n",
       "      <td>NaN</td>\n",
       "    </tr>\n",
       "    <tr>\n",
       "      <th>1</th>\n",
       "      <td>NaN</td>\n",
       "      <td>NaN</td>\n",
       "      <td>NaN</td>\n",
       "      <td>NaN</td>\n",
       "      <td>NaN</td>\n",
       "      <td>NaN</td>\n",
       "      <td>not found</td>\n",
       "      <td>NaN</td>\n",
       "      <td>NaN</td>\n",
       "      <td>browser_computer</td>\n",
       "      <td>...</td>\n",
       "      <td>NaN</td>\n",
       "      <td>NaN</td>\n",
       "      <td>NaN</td>\n",
       "      <td>NaN</td>\n",
       "      <td>NaN</td>\n",
       "      <td>NaN</td>\n",
       "      <td>NaN</td>\n",
       "      <td>NaN</td>\n",
       "      <td>NaN</td>\n",
       "      <td>NaN</td>\n",
       "    </tr>\n",
       "    <tr>\n",
       "      <th>2</th>\n",
       "      <td>NaN</td>\n",
       "      <td>NaN</td>\n",
       "      <td>2015-12-04</td>\n",
       "      <td>NaN</td>\n",
       "      <td>2016-02-01</td>\n",
       "      <td>2016-02-01</td>\n",
       "      <td>success</td>\n",
       "      <td>0.0</td>\n",
       "      <td>0.0</td>\n",
       "      <td>browser_computer</td>\n",
       "      <td>...</td>\n",
       "      <td>NaN</td>\n",
       "      <td>NaN</td>\n",
       "      <td>NaN</td>\n",
       "      <td>NaN</td>\n",
       "      <td>NaN</td>\n",
       "      <td>NaN</td>\n",
       "      <td>NaN</td>\n",
       "      <td>NaN</td>\n",
       "      <td>NaN</td>\n",
       "      <td>NaN</td>\n",
       "    </tr>\n",
       "    <tr>\n",
       "      <th>3</th>\n",
       "      <td>NaN</td>\n",
       "      <td>NaN</td>\n",
       "      <td>NaN</td>\n",
       "      <td>NaN</td>\n",
       "      <td>NaN</td>\n",
       "      <td>NaN</td>\n",
       "      <td>not found</td>\n",
       "      <td>NaN</td>\n",
       "      <td>NaN</td>\n",
       "      <td>browser_computer</td>\n",
       "      <td>...</td>\n",
       "      <td>NaN</td>\n",
       "      <td>NaN</td>\n",
       "      <td>NaN</td>\n",
       "      <td>NaN</td>\n",
       "      <td>NaN</td>\n",
       "      <td>NaN</td>\n",
       "      <td>NaN</td>\n",
       "      <td>NaN</td>\n",
       "      <td>NaN</td>\n",
       "      <td>NaN</td>\n",
       "    </tr>\n",
       "    <tr>\n",
       "      <th>4</th>\n",
       "      <td>NaN</td>\n",
       "      <td>NaN</td>\n",
       "      <td>2014-09-28</td>\n",
       "      <td>NaN</td>\n",
       "      <td>2016-02-01</td>\n",
       "      <td>2016-02-01</td>\n",
       "      <td>success</td>\n",
       "      <td>0.0</td>\n",
       "      <td>0.0</td>\n",
       "      <td>browser_computer</td>\n",
       "      <td>...</td>\n",
       "      <td>NaN</td>\n",
       "      <td>NaN</td>\n",
       "      <td>NaN</td>\n",
       "      <td>NaN</td>\n",
       "      <td>NaN</td>\n",
       "      <td>NaN</td>\n",
       "      <td>NaN</td>\n",
       "      <td>NaN</td>\n",
       "      <td>NaN</td>\n",
       "      <td>NaN</td>\n",
       "    </tr>\n",
       "  </tbody>\n",
       "</table>\n",
       "<p>5 rows × 233 columns</p>\n",
       "</div>"
      ],
      "text/plain": [
       "  x72496 x32520      x46219 x97734      x98434      x13664     x83336  x48420  \\\n",
       "0    NaN    NaN  2016-01-30    NaN  2016-02-01  2016-02-01    success     0.0   \n",
       "1    NaN    NaN         NaN    NaN         NaN         NaN  not found     NaN   \n",
       "2    NaN    NaN  2015-12-04    NaN  2016-02-01  2016-02-01    success     0.0   \n",
       "3    NaN    NaN         NaN    NaN         NaN         NaN  not found     NaN   \n",
       "4    NaN    NaN  2014-09-28    NaN  2016-02-01  2016-02-01    success     0.0   \n",
       "\n",
       "   x97674        agent_type        ...         navigatorproductsub  \\\n",
       "0     0.0    browser_mobile        ...                         NaN   \n",
       "1     NaN  browser_computer        ...                         NaN   \n",
       "2     0.0  browser_computer        ...                         NaN   \n",
       "3     NaN  browser_computer        ...                         NaN   \n",
       "4     0.0  browser_computer        ...                         NaN   \n",
       "\n",
       "  navigatorappcodename language useragent donottrack timezoneoffset  \\\n",
       "0                  NaN      NaN       NaN        NaN            NaN   \n",
       "1                  NaN      NaN       NaN        NaN            NaN   \n",
       "2                  NaN      NaN       NaN        NaN            NaN   \n",
       "3                  NaN      NaN       NaN        NaN            NaN   \n",
       "4                  NaN      NaN       NaN        NaN            NaN   \n",
       "\n",
       "  navigatorplatform  navigatorjavaenabled navigatorcookieenabled  \\\n",
       "0               NaN                   NaN                    NaN   \n",
       "1               NaN                   NaN                    NaN   \n",
       "2               NaN                   NaN                    NaN   \n",
       "3               NaN                   NaN                    NaN   \n",
       "4               NaN                   NaN                    NaN   \n",
       "\n",
       "  parsed_user_agent  \n",
       "0               NaN  \n",
       "1               NaN  \n",
       "2               NaN  \n",
       "3               NaN  \n",
       "4               NaN  \n",
       "\n",
       "[5 rows x 233 columns]"
      ]
     },
     "execution_count": 143,
     "metadata": {},
     "output_type": "execute_result"
    }
   ],
   "source": [
    "xtrain_1.head()"
   ]
  },
  {
   "cell_type": "code",
   "execution_count": null,
   "metadata": {
    "collapsed": true
   },
   "outputs": [],
   "source": [
    "0,1,6,9,11,12,13,15,18,19,20,21,22,27,"
   ]
  },
  {
   "cell_type": "code",
   "execution_count": 248,
   "metadata": {
    "collapsed": false
   },
   "outputs": [
    {
     "name": "stdout",
     "output_type": "stream",
     "text": [
      "71\n"
     ]
    }
   ],
   "source": [
    "counter = 0\n",
    "for i in cols:\n",
    "    if i == 'headers_name_value_hash':\n",
    "        print(counter)\n",
    "    counter += 1"
   ]
  },
  {
   "cell_type": "code",
   "execution_count": 345,
   "metadata": {
    "collapsed": false
   },
   "outputs": [
    {
     "data": {
      "text/plain": [
       "array([ -96.81423, -117.29898,  -84.49769, ..., -118.0793 ,  -85.48486,\n",
       "        -73.93955])"
      ]
     },
     "execution_count": 345,
     "metadata": {},
     "output_type": "execute_result"
    }
   ],
   "source": [
    "xtrain_1.loc[:,'x46383'].unique()"
   ]
  },
  {
   "cell_type": "code",
   "execution_count": 313,
   "metadata": {
    "collapsed": false
   },
   "outputs": [
    {
     "data": {
      "text/plain": [
       "['x58838',\n",
       " 'x73629',\n",
       " 'x5290',\n",
       " 'cc_bin_number_geo',\n",
       " 'x5170',\n",
       " 'donottrack',\n",
       " 'input_ip_geo',\n",
       " 'x92166',\n",
       " 'x5193',\n",
       " 'x96255',\n",
       " 'dns_ip_region',\n",
       " 'cc_bin_number_org',\n",
       " 'headers_accept_encoding',\n",
       " 'navigatorappname',\n",
       " 'transaction_currency',\n",
       " 'user_ip_country',\n",
       " 'dns_ip_geo',\n",
       " 'os',\n",
       " 'request_result',\n",
       " 'x76585',\n",
       " 'session_id',\n",
       " 'x13872',\n",
       " 'browser_string',\n",
       " 'x5342',\n",
       " 'user_ip_address',\n",
       " 'x76409',\n",
       " 'x12050',\n",
       " 'x80385',\n",
       " 'x87611',\n",
       " 'country_code',\n",
       " 'x92645',\n",
       " 'navigatorvendor',\n",
       " 'received_at',\n",
       " 'browser_language',\n",
       " 'x46567',\n",
       " 'x84525',\n",
       " 'risk_rating',\n",
       " 'x9789',\n",
       " 'agent_type',\n",
       " 'dns_ip_organization',\n",
       " 'x44566',\n",
       " 'headers_order_string_hash',\n",
       " 'x97734',\n",
       " 'input_ip_organization',\n",
       " 'card_type',\n",
       " 'name',\n",
       " 'tcp_os_name',\n",
       " 'headers_connection',\n",
       " 'input_ip_last_event',\n",
       " 'x71182',\n",
       " 'x83032',\n",
       " 'x18591',\n",
       " 'cc_bin_number_brand',\n",
       " 'x92221',\n",
       " 'browser_version',\n",
       " 'cc_number_hash_assert_history',\n",
       " 'x80911',\n",
       " 'cc_bin_number_category',\n",
       " 'input_ip_attributes',\n",
       " 'x83336',\n",
       " 'browser',\n",
       " 'navigatorcookieenabled',\n",
       " 'x31903',\n",
       " 'x94347',\n",
       " 'cc_bin_number_type',\n",
       " 'x58765',\n",
       " 'x66015',\n",
       " 'cc_number_hash_last_event',\n",
       " 'remote_desktop',\n",
       " 'input_ip_region',\n",
       " 'x31318',\n",
       " 'navigatorplatform',\n",
       " 'x32520',\n",
       " 'js_browser_string_hash',\n",
       " 'x48486',\n",
       " 'x52116',\n",
       " 'x46591',\n",
       " 'x10047',\n",
       " 'x21215',\n",
       " 'x75049',\n",
       " 'x26431',\n",
       " 'x50289',\n",
       " 'x1384',\n",
       " 'navigatorjavaenabled',\n",
       " 'x85212',\n",
       " 'input_ip_city',\n",
       " 'language',\n",
       " 'navigatorproduct',\n",
       " 'x50315',\n",
       " 'x30901',\n",
       " 'useragent',\n",
       " 'card_level',\n",
       " 'dns_ip_isp',\n",
       " 'x51172',\n",
       " 'session_id.1',\n",
       " 'x14458',\n",
       " 'x91746',\n",
       " 'cc_number_hash_first_seen',\n",
       " 'user_reference',\n",
       " 'headers_accept_language',\n",
       " 'input_ip_isp',\n",
       " 'tcp_os_flavor',\n",
       " 'navigatorappcodename',\n",
       " 'x82598',\n",
       " 'js_os',\n",
       " 'x71910',\n",
       " 'x75714',\n",
       " 'x16584',\n",
       " 'js_fonts_hash',\n",
       " 'review_status',\n",
       " 'x55037',\n",
       " 'dns_ip_city',\n",
       " 'headers_user_agent',\n",
       " 'x46219',\n",
       " 'x40163',\n",
       " 'x31255',\n",
       " 'input_ip_result',\n",
       " 'x63143',\n",
       " 'x41009',\n",
       " 'browser_string_mismatch',\n",
       " 'x11958',\n",
       " 'x21877',\n",
       " 'bin_country',\n",
       " 'cc_number_hash_result',\n",
       " 'mime_type_hash',\n",
       " 'x16453',\n",
       " 'js_browser_string',\n",
       " 'x80025',\n",
       " 'x2801',\n",
       " 'cc_number_hash_last_update',\n",
       " 'x64585',\n",
       " 'x26588',\n",
       " 'x13664',\n",
       " 'transaction_currency.1',\n",
       " 'card_brand']"
      ]
     },
     "execution_count": 313,
     "metadata": {},
     "output_type": "execute_result"
    }
   ],
   "source": [
    "cols = xtrain_1.columns\n",
    "num_cols = xtrain_1._get_numeric_data().columns\n",
    "cat_var = list(set(cols) - set(num_cols) - set(['input_ip_first_seen','headers_name_value_hash','navigatorappversion','x72496',\n",
    "                                                'x68280','x40007','x55586','browser_string_hash','x66439','x98434','js_browser',\n",
    "                                               'x42420','input_ip_assert_history','headers_accept','x52094','x39150',\n",
    "                                               'x33709','x3370','x21202','x85112','input_ip_last_update','x42973']))\n",
    "cat_var"
   ]
  },
  {
   "cell_type": "code",
   "execution_count": null,
   "metadata": {
    "collapsed": true
   },
   "outputs": [],
   "source": []
  }
 ],
 "metadata": {
  "anaconda-cloud": {},
  "kernelspec": {
   "display_name": "Python [conda root]",
   "language": "python",
   "name": "conda-root-py"
  },
  "language_info": {
   "codemirror_mode": {
    "name": "ipython",
    "version": 3
   },
   "file_extension": ".py",
   "mimetype": "text/x-python",
   "name": "python",
   "nbconvert_exporter": "python",
   "pygments_lexer": "ipython3",
   "version": "3.5.2"
  }
 },
 "nbformat": 4,
 "nbformat_minor": 0
}
